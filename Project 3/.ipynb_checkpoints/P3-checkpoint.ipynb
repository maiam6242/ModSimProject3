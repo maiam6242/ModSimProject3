{
 "cells": [
  {
   "cell_type": "markdown",
   "metadata": {},
   "source": [
    "# ORBIT HOMEWORK"
   ]
  },
  {
   "cell_type": "code",
   "execution_count": 1,
   "metadata": {},
   "outputs": [],
   "source": [
    "# Configure Jupyter so figures appear in the notebook\n",
    "%matplotlib inline\n",
    "\n",
    "# Configure Jupyter to display the assigned value after an assignment\n",
    "%config InteractiveShell.ast_node_interactivity='last_expr_or_assign'\n",
    "\n",
    "# import functions from the modsim.py module\n",
    "from modsim import *"
   ]
  },
  {
   "cell_type": "code",
   "execution_count": 2,
   "metadata": {},
   "outputs": [
    {
     "data": {
      "text/html": [
       "newton"
      ],
      "text/latex": [
       "$newton$"
      ],
      "text/plain": [
       "<Unit('newton')>"
      ]
     },
     "execution_count": 2,
     "metadata": {},
     "output_type": "execute_result"
    }
   ],
   "source": [
    "m = UNITS.meter\n",
    "s = UNITS.second\n",
    "kg = UNITS.kilogram\n",
    "degree = UNITS.degree\n",
    "radian = UNITS.radian\n",
    "N = UNITS.newton"
   ]
  },
  {
   "cell_type": "code",
   "execution_count": 3,
   "metadata": {},
   "outputs": [
    {
     "data": {
      "text/html": [
       "<div>\n",
       "<style scoped>\n",
       "    .dataframe tbody tr th:only-of-type {\n",
       "        vertical-align: middle;\n",
       "    }\n",
       "\n",
       "    .dataframe tbody tr th {\n",
       "        vertical-align: top;\n",
       "    }\n",
       "\n",
       "    .dataframe thead th {\n",
       "        text-align: right;\n",
       "    }\n",
       "</style>\n",
       "<table border=\"1\" class=\"dataframe\">\n",
       "  <thead>\n",
       "    <tr style=\"text-align: right;\">\n",
       "      <th></th>\n",
       "      <th>values</th>\n",
       "    </tr>\n",
       "  </thead>\n",
       "  <tbody>\n",
       "    <tr>\n",
       "      <th>x_e</th>\n",
       "      <td>147000000000.0 meter</td>\n",
       "    </tr>\n",
       "    <tr>\n",
       "      <th>y_e</th>\n",
       "      <td>0 meter</td>\n",
       "    </tr>\n",
       "    <tr>\n",
       "      <th>vx_e</th>\n",
       "      <td>0.0 meter / second</td>\n",
       "    </tr>\n",
       "    <tr>\n",
       "      <th>vy_e</th>\n",
       "      <td>29784.0 meter / second</td>\n",
       "    </tr>\n",
       "    <tr>\n",
       "      <th>x_s</th>\n",
       "      <td>0 meter</td>\n",
       "    </tr>\n",
       "    <tr>\n",
       "      <th>y_s</th>\n",
       "      <td>0 meter</td>\n",
       "    </tr>\n",
       "    <tr>\n",
       "      <th>vx_s</th>\n",
       "      <td>0.0 meter / second</td>\n",
       "    </tr>\n",
       "    <tr>\n",
       "      <th>vy_s</th>\n",
       "      <td>0.0 meter / second</td>\n",
       "    </tr>\n",
       "    <tr>\n",
       "      <th>x_j</th>\n",
       "      <td>778000000000.0 meter</td>\n",
       "    </tr>\n",
       "    <tr>\n",
       "      <th>y_j</th>\n",
       "      <td>0 meter</td>\n",
       "    </tr>\n",
       "    <tr>\n",
       "      <th>vx_j</th>\n",
       "      <td>0.0 meter / second</td>\n",
       "    </tr>\n",
       "    <tr>\n",
       "      <th>vy_j</th>\n",
       "      <td>13069.0 meter / second</td>\n",
       "    </tr>\n",
       "    <tr>\n",
       "      <th>m_j</th>\n",
       "      <td>1.898e+27 kilogram</td>\n",
       "    </tr>\n",
       "  </tbody>\n",
       "</table>\n",
       "</div>"
      ],
      "text/plain": [
       "x_e       147000000000.0 meter\n",
       "y_e                    0 meter\n",
       "vx_e        0.0 meter / second\n",
       "vy_e    29784.0 meter / second\n",
       "x_s                    0 meter\n",
       "y_s                    0 meter\n",
       "vx_s        0.0 meter / second\n",
       "vy_s        0.0 meter / second\n",
       "x_j       778000000000.0 meter\n",
       "y_j                    0 meter\n",
       "vx_j        0.0 meter / second\n",
       "vy_j    13069.0 meter / second\n",
       "m_j         1.898e+27 kilogram\n",
       "dtype: object"
      ]
     },
     "execution_count": 3,
     "metadata": {},
     "output_type": "execute_result"
    }
   ],
   "source": [
    "r_e = 147e9 * m\n",
    "r_j = 778e9 * m\n",
    "init_jupiter_mass = 1.898e27 * kg\n",
    "\n",
    "init = State(x_e = r_e, y_e = 0 * m, vx_e = 0 *m/s, vy_e = 29784 *m/s,\n",
    "             x_s = 0 * m, y_s = 0 * m, vx_s = 0 *m/s, vy_s = 0 *m/s,\n",
    "             x_j = r_j, y_j = 0 * m, vx_j = 0 *m/s, vy_j = 13069 *m/s, m_j = init_jupiter_mass)"
   ]
  },
  {
   "cell_type": "code",
   "execution_count": 4,
   "metadata": {},
   "outputs": [
    {
     "data": {
      "text/html": [
       "<div>\n",
       "<style scoped>\n",
       "    .dataframe tbody tr th:only-of-type {\n",
       "        vertical-align: middle;\n",
       "    }\n",
       "\n",
       "    .dataframe tbody tr th {\n",
       "        vertical-align: top;\n",
       "    }\n",
       "\n",
       "    .dataframe thead th {\n",
       "        text-align: right;\n",
       "    }\n",
       "</style>\n",
       "<table border=\"1\" class=\"dataframe\">\n",
       "  <thead>\n",
       "    <tr style=\"text-align: right;\">\n",
       "      <th></th>\n",
       "      <th>values</th>\n",
       "    </tr>\n",
       "  </thead>\n",
       "  <tbody>\n",
       "    <tr>\n",
       "      <th>init</th>\n",
       "      <td>x_e       147000000000.0 meter\n",
       "y_e            ...</td>\n",
       "    </tr>\n",
       "    <tr>\n",
       "      <th>G</th>\n",
       "      <td>6.674e-11 meter ** 2 * newton / kilogram ** 2</td>\n",
       "    </tr>\n",
       "    <tr>\n",
       "      <th>m_s</th>\n",
       "      <td>1.989e+30 kilogram</td>\n",
       "    </tr>\n",
       "    <tr>\n",
       "      <th>r_final</th>\n",
       "      <td>701879000.0 meter</td>\n",
       "    </tr>\n",
       "    <tr>\n",
       "      <th>m_e</th>\n",
       "      <td>5.972e+24 kilogram</td>\n",
       "    </tr>\n",
       "    <tr>\n",
       "      <th>t_0</th>\n",
       "      <td>0 second</td>\n",
       "    </tr>\n",
       "    <tr>\n",
       "      <th>t_end</th>\n",
       "      <td>1577000000.0 second</td>\n",
       "    </tr>\n",
       "    <tr>\n",
       "      <th>m_j_init</th>\n",
       "      <td>1.898e+27 kilogram</td>\n",
       "    </tr>\n",
       "  </tbody>\n",
       "</table>\n",
       "</div>"
      ],
      "text/plain": [
       "init        x_e       147000000000.0 meter\n",
       "y_e            ...\n",
       "G               6.674e-11 meter ** 2 * newton / kilogram ** 2\n",
       "m_s                                        1.989e+30 kilogram\n",
       "r_final                                     701879000.0 meter\n",
       "m_e                                        5.972e+24 kilogram\n",
       "t_0                                                  0 second\n",
       "t_end                                     1577000000.0 second\n",
       "m_j_init                                   1.898e+27 kilogram\n",
       "dtype: object"
      ]
     },
     "execution_count": 4,
     "metadata": {},
     "output_type": "execute_result"
    }
   ],
   "source": [
    "# Making a system object\n",
    "\n",
    "r_earth = 6.371e6 * m\n",
    "r_sun = 695.508e6 * m\n",
    "\n",
    "system = System(init=init,\n",
    "                G=6.674e-11 * N / kg**2 * m**2,\n",
    "                m_s=1.989e30 * kg, \n",
    "                r_final=r_sun + r_earth,\n",
    "                m_e=5.972e24 * kg,\n",
    "                t_0=0 * s,\n",
    "                t_end= 1.577e9* s,\n",
    "                m_j_init = 1.898e27 * kg)"
   ]
  },
  {
   "cell_type": "code",
   "execution_count": 5,
   "metadata": {},
   "outputs": [],
   "source": [
    "# Here's a function that computes the force of gravity\n",
    "\n",
    "def universal_gravitation(state, system):\n",
    "    \"\"\"Computes gravitational force.\n",
    "    \n",
    "    state: State object with distance r\n",
    "    system: System object with m1, m2, and G\n",
    "    \"\"\"\n",
    "    x_e, y_e, vx_e, vy_e, x_s, y_s, vx_s, vy_s, x_j, y_j, vx_j, vy_j, m_j = state\n",
    "    unpack(system)\n",
    "    \n",
    "    \n",
    "    cur_position_se = Vector(x_s - x_e, y_s - y_e)\n",
    "    mag_se = cur_position_se.mag\n",
    "    \n",
    "    force_se = G * m_s * m_e / mag_se**2\n",
    "    direction_se = -cur_position_se.hat()\n",
    "    \n",
    "    se_force = direction_se * force_se\n",
    "    \n",
    "    \n",
    "    \n",
    "    cur_position_sj = Vector(x_s - x_j, y_s - y_j)\n",
    "    mag_sj = cur_position_sj.mag\n",
    "    \n",
    "    force_sj = G * m_s * m_j / mag_sj**2\n",
    "    direction_sj = -cur_position_sj.hat()\n",
    "    \n",
    "    sj_force = direction_sj * force_sj\n",
    "    \n",
    "    \n",
    "    \n",
    "    cur_position_je = Vector(x_j - x_e, y_j - y_e)\n",
    "    mag_je = cur_position_je.mag\n",
    "    \n",
    "    force_je = G * m_j * m_e / mag_je**2\n",
    "    direction_je = -cur_position_je.hat()\n",
    "    \n",
    "    je_force = direction_je * force_je\n",
    "    \n",
    "    \n",
    "    return je_force, sj_force, se_force"
   ]
  },
  {
   "cell_type": "code",
   "execution_count": 6,
   "metadata": {},
   "outputs": [
    {
     "data": {
      "text/plain": [
       "(<Quantity([-1.89995577e+18 -0.00000000e+00], 'newton')>,\n",
       " <Quantity([ 4.16253597e+23 -0.00000000e+00], 'newton')>,\n",
       " <Quantity([ 3.6686486e+22 -0.0000000e+00], 'newton')>)"
      ]
     },
     "execution_count": 6,
     "metadata": {},
     "output_type": "execute_result"
    }
   ],
   "source": [
    "force = universal_gravitation(init,system)"
   ]
  },
  {
   "cell_type": "code",
   "execution_count": 7,
   "metadata": {},
   "outputs": [],
   "source": [
    "# The slope function\n",
    "\n",
    "def slope_func(state, t, system):\n",
    "    \"\"\"Compute derivatives of the state.\n",
    "    \n",
    "    state: position, velocity\n",
    "    t: time\n",
    "    system: System object containing `g`\n",
    "    \n",
    "    returns: derivatives of y and v\n",
    "    \"\"\"\n",
    "    x_e, y_e, vx_e, vy_e, x_s, y_s, vx_s, vy_s, x_j, y_j, vx_j, vy_j, m_j = state\n",
    "    unpack(system)    \n",
    "\n",
    "    je_force, sj_force, se_force = universal_gravitation(state, system)\n",
    "    dx_edt = vx_e\n",
    "    dy_edt = vy_e\n",
    "    dvx_edt = (-je_force.x / m_e) + (-se_force.x / m_e)\n",
    "    dvy_edt = (-je_force.y / m_e) + (-se_force.y / m_e)\n",
    "    \n",
    "    dx_jdt = vx_j\n",
    "    dy_jdt = vy_j\n",
    "    dvx_jdt = (je_force.x / m_j) + (-sj_force.x / m_j)\n",
    "    dvy_jdt = (je_force.y / m_j) + (-sj_force.y / m_j)\n",
    "    \n",
    "    dx_sdt = vx_s\n",
    "    dy_sdt = vy_s\n",
    "    dvx_sdt = (se_force.x / m_s) + (sj_force.x / m_s)\n",
    "    dvy_sdt = (se_force.y / m_s) + (sj_force.y / m_s)\n",
    "    \n",
    "    dm_jdt = (m_s - m_j_init)/t_end\n",
    "    \n",
    "    return dx_edt, dy_edt, dvx_edt, dvy_edt, dx_sdt, dy_sdt, dvx_sdt, dvy_sdt, dx_jdt, dy_jdt, dvx_jdt, dvy_jdt, dm_jdt"
   ]
  },
  {
   "cell_type": "code",
   "execution_count": 8,
   "metadata": {},
   "outputs": [
    {
     "data": {
      "text/plain": [
       "(<Quantity(0.0, 'meter / second')>,\n",
       " <Quantity(29784.0, 'meter / second')>,\n",
       " <Quantity(-0.0061427639051793, 'newton / kilogram')>,\n",
       " <Quantity(0.0, 'newton / kilogram')>,\n",
       " <Quantity(0.0, 'meter / second')>,\n",
       " <Quantity(0.0, 'meter / second')>,\n",
       " <Quantity(2.277225153940937e-07, 'newton / kilogram')>,\n",
       " <Quantity(-0.0, 'newton / kilogram')>,\n",
       " <Quantity(0.0, 'meter / second')>,\n",
       " <Quantity(13069.0, 'meter / second')>,\n",
       " <Quantity(-0.0002193126960364181, 'newton / kilogram')>,\n",
       " <Quantity(0.0, 'newton / kilogram')>,\n",
       " <Quantity(1.2600519974635383e+21, 'kilogram / second')>)"
      ]
     },
     "execution_count": 8,
     "metadata": {},
     "output_type": "execute_result"
    }
   ],
   "source": [
    "# Always test the slope function!\n",
    "\n",
    "slope_func(init, 50000, system)"
   ]
  },
  {
   "cell_type": "code",
   "execution_count": 9,
   "metadata": {},
   "outputs": [],
   "source": [
    "#def event_func(state, t, system):\n",
    "#    x,y,vx,vy = state\n",
    "#    if t>1:\n",
    "#        return r_0 + x\n",
    "#    else:\n",
    "#        return 1"
   ]
  },
  {
   "cell_type": "code",
   "execution_count": null,
   "metadata": {},
   "outputs": [],
   "source": [
    "# Finally we can run the simulation\n",
    "\n",
    "results, details = run_ode_solver(system, slope_func, max_step = 100000)\n",
    "details"
   ]
  },
  {
   "cell_type": "code",
   "execution_count": null,
   "metadata": {},
   "outputs": [],
   "source": [
    "results"
   ]
  },
  {
   "cell_type": "code",
   "execution_count": null,
   "metadata": {},
   "outputs": [],
   "source": [
    "def plot_trajectory(results):\n",
    "    plot(results.x_e, results.y_e, label='earth')\n",
    "    plot(results.x_j, results.y_j, label='jupiter')\n",
    "    plot(results.x_s, results.y_s, label='sun')\n",
    "\n",
    "    \n",
    "    decorate(xlabel='x position (m)',\n",
    "             ylabel='y position (m)')\n",
    "\n",
    "plot_trajectory(results)\n",
    "#savefig('figs/chap10-fig02.pdf')"
   ]
  },
  {
   "cell_type": "code",
   "execution_count": null,
   "metadata": {},
   "outputs": [],
   "source": []
  },
  {
   "cell_type": "code",
   "execution_count": null,
   "metadata": {},
   "outputs": [],
   "source": []
  }
 ],
 "metadata": {
  "kernelspec": {
   "display_name": "Python 3",
   "language": "python",
   "name": "python3"
  },
  "language_info": {
   "codemirror_mode": {
    "name": "ipython",
    "version": 3
   },
   "file_extension": ".py",
   "mimetype": "text/x-python",
   "name": "python",
   "nbconvert_exporter": "python",
   "pygments_lexer": "ipython3",
   "version": "3.6.6"
  }
 },
 "nbformat": 4,
 "nbformat_minor": 2
}
