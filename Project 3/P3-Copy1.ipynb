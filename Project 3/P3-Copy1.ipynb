{
 "cells": [
  {
   "cell_type": "markdown",
   "metadata": {},
   "source": [
    "# Modsim Project 3 - Maia Materman, SeungU Lyu"
   ]
  },
  {
   "cell_type": "code",
   "execution_count": 93,
   "metadata": {},
   "outputs": [],
   "source": [
    "# Configure Jupyter so figures appear in the notebook\n",
    "%matplotlib inline\n",
    "\n",
    "# Configure Jupyter to display the assigned value after an assignment\n",
    "%config InteractiveShell.ast_node_interactivity='last_expr_or_assign'\n",
    "\n",
    "# import functions from the modsim.py module\n",
    "from modsim import *"
   ]
  },
  {
   "cell_type": "markdown",
   "metadata": {},
   "source": [
    "## Question\n",
    "\n",
    "Jupiter is the second heaviest planet body in the solar system, right after the sun. Even though its mass is relatively small compared to the sun's mass (about 0.001% of sun's mass), the effect it has toward other planets in the solar system is huge. Even now, it attracts most of the asteroids inside the solar system so that it cannot pass through toward the earth. There was an interesting hypothesis that if Jupiter's mass was about 100 times higher than it was at the creation, it might have started nuclear fusion by itself, and evolve into a star instead. If this happened, the solar system could have become a binary star system which is actually common thinking of other stars in the universe. However, earth might have not made its way into the Habitable Zone due to massive gravity that exist in binary solar system, not being able to create its own life. \n",
    "\n",
    "For this question, we thought it might be really interesting if for some reason, Jupiter starts the nuclear fusion process and becomes a star that has about the same mass as the sun. "
   ]
  },
  {
   "cell_type": "code",
   "execution_count": 2,
   "metadata": {},
   "outputs": [
    {
     "data": {
      "text/html": [
       "<div>\n",
       "<style scoped>\n",
       "    .dataframe tbody tr th:only-of-type {\n",
       "        vertical-align: middle;\n",
       "    }\n",
       "\n",
       "    .dataframe tbody tr th {\n",
       "        vertical-align: top;\n",
       "    }\n",
       "\n",
       "    .dataframe thead th {\n",
       "        text-align: right;\n",
       "    }\n",
       "</style>\n",
       "<table border=\"1\" class=\"dataframe\">\n",
       "  <thead>\n",
       "    <tr style=\"text-align: right;\">\n",
       "      <th></th>\n",
       "      <th>values</th>\n",
       "    </tr>\n",
       "  </thead>\n",
       "  <tbody>\n",
       "    <tr>\n",
       "      <th>x_e</th>\n",
       "      <td>1.470000e+11</td>\n",
       "    </tr>\n",
       "    <tr>\n",
       "      <th>y_e</th>\n",
       "      <td>0.000000e+00</td>\n",
       "    </tr>\n",
       "    <tr>\n",
       "      <th>vx_e</th>\n",
       "      <td>0.000000e+00</td>\n",
       "    </tr>\n",
       "    <tr>\n",
       "      <th>vy_e</th>\n",
       "      <td>2.978400e+04</td>\n",
       "    </tr>\n",
       "    <tr>\n",
       "      <th>x_s</th>\n",
       "      <td>0.000000e+00</td>\n",
       "    </tr>\n",
       "    <tr>\n",
       "      <th>y_s</th>\n",
       "      <td>0.000000e+00</td>\n",
       "    </tr>\n",
       "    <tr>\n",
       "      <th>vx_s</th>\n",
       "      <td>0.000000e+00</td>\n",
       "    </tr>\n",
       "    <tr>\n",
       "      <th>vy_s</th>\n",
       "      <td>0.000000e+00</td>\n",
       "    </tr>\n",
       "    <tr>\n",
       "      <th>x_j</th>\n",
       "      <td>7.780000e+11</td>\n",
       "    </tr>\n",
       "    <tr>\n",
       "      <th>y_j</th>\n",
       "      <td>0.000000e+00</td>\n",
       "    </tr>\n",
       "    <tr>\n",
       "      <th>vx_j</th>\n",
       "      <td>0.000000e+00</td>\n",
       "    </tr>\n",
       "    <tr>\n",
       "      <th>vy_j</th>\n",
       "      <td>1.306900e+04</td>\n",
       "    </tr>\n",
       "    <tr>\n",
       "      <th>m_j</th>\n",
       "      <td>1.898000e+27</td>\n",
       "    </tr>\n",
       "  </tbody>\n",
       "</table>\n",
       "</div>"
      ],
      "text/plain": [
       "x_e     1.470000e+11\n",
       "y_e     0.000000e+00\n",
       "vx_e    0.000000e+00\n",
       "vy_e    2.978400e+04\n",
       "x_s     0.000000e+00\n",
       "y_s     0.000000e+00\n",
       "vx_s    0.000000e+00\n",
       "vy_s    0.000000e+00\n",
       "x_j     7.780000e+11\n",
       "y_j     0.000000e+00\n",
       "vx_j    0.000000e+00\n",
       "vy_j    1.306900e+04\n",
       "m_j     1.898000e+27\n",
       "dtype: float64"
      ]
     },
     "execution_count": 2,
     "metadata": {},
     "output_type": "execute_result"
    }
   ],
   "source": [
    "r_e = 147e9\n",
    "r_j = 778e9\n",
    "init_jupiter_mass = 1.898e27\n",
    "\n",
    "init = State(x_e = r_e, y_e = 0 , vx_e = 0 , vy_e = 29784,\n",
    "             x_s = 0 , y_s = 0 , vx_s = 0 , vy_s = 0 ,\n",
    "             x_j = r_j, y_j = 0 , vx_j = 0 , vy_j = 13069 , m_j = init_jupiter_mass)"
   ]
  },
  {
   "cell_type": "code",
   "execution_count": 77,
   "metadata": {},
   "outputs": [
    {
     "data": {
      "text/html": [
       "<div>\n",
       "<style scoped>\n",
       "    .dataframe tbody tr th:only-of-type {\n",
       "        vertical-align: middle;\n",
       "    }\n",
       "\n",
       "    .dataframe tbody tr th {\n",
       "        vertical-align: top;\n",
       "    }\n",
       "\n",
       "    .dataframe thead th {\n",
       "        text-align: right;\n",
       "    }\n",
       "</style>\n",
       "<table border=\"1\" class=\"dataframe\">\n",
       "  <thead>\n",
       "    <tr style=\"text-align: right;\">\n",
       "      <th></th>\n",
       "      <th>values</th>\n",
       "    </tr>\n",
       "  </thead>\n",
       "  <tbody>\n",
       "    <tr>\n",
       "      <th>init</th>\n",
       "      <td>x_e     1.470000e+11\n",
       "y_e     0.000000e+00\n",
       "vx_e...</td>\n",
       "    </tr>\n",
       "    <tr>\n",
       "      <th>G</th>\n",
       "      <td>6.674e-11</td>\n",
       "    </tr>\n",
       "    <tr>\n",
       "      <th>m_s</th>\n",
       "      <td>1.989e+30</td>\n",
       "    </tr>\n",
       "    <tr>\n",
       "      <th>m_e</th>\n",
       "      <td>5.972e+24</td>\n",
       "    </tr>\n",
       "    <tr>\n",
       "      <th>t_0</th>\n",
       "      <td>0</td>\n",
       "    </tr>\n",
       "    <tr>\n",
       "      <th>t_end</th>\n",
       "      <td>37840000</td>\n",
       "    </tr>\n",
       "    <tr>\n",
       "      <th>m_j_init</th>\n",
       "      <td>1.898e+27</td>\n",
       "    </tr>\n",
       "    <tr>\n",
       "      <th>dt</th>\n",
       "      <td>1000</td>\n",
       "    </tr>\n",
       "  </tbody>\n",
       "</table>\n",
       "</div>"
      ],
      "text/plain": [
       "init        x_e     1.470000e+11\n",
       "y_e     0.000000e+00\n",
       "vx_e...\n",
       "G                                                   6.674e-11\n",
       "m_s                                                 1.989e+30\n",
       "m_e                                                 5.972e+24\n",
       "t_0                                                         0\n",
       "t_end                                                37840000\n",
       "m_j_init                                            1.898e+27\n",
       "dt                                                       1000\n",
       "dtype: object"
      ]
     },
     "execution_count": 77,
     "metadata": {},
     "output_type": "execute_result"
    }
   ],
   "source": [
    "system = System(init=init,\n",
    "                G=6.674e-11,\n",
    "                m_s=1.989e30, \n",
    "                m_e=5.972e24,\n",
    "                t_0=0,\n",
    "                t_end= 37840000,\n",
    "                m_j_init = 1.898e27,\n",
    "                dt = 1000)"
   ]
  },
  {
   "cell_type": "code",
   "execution_count": 78,
   "metadata": {},
   "outputs": [
    {
     "data": {
      "text/plain": [
       "5.2513266384778014e+22"
      ]
     },
     "execution_count": 78,
     "metadata": {},
     "output_type": "execute_result"
    }
   ],
   "source": [
    "(1.989e+30 - 1.898e27)/system.t_end"
   ]
  },
  {
   "cell_type": "code",
   "execution_count": 79,
   "metadata": {},
   "outputs": [],
   "source": [
    "# Here's a function that computes the force of gravity\n",
    "\n",
    "def universal_gravitation(state, system):\n",
    "    \"\"\"Computes gravitational force.\n",
    "    \n",
    "    state: State object with distance r\n",
    "    system: System object with m1, m2, and G\n",
    "    \"\"\"\n",
    "    x_e, y_e, vx_e, vy_e, x_s, y_s, vx_s, vy_s, x_j, y_j, vx_j, vy_j, m_j = state\n",
    "    unpack(system)\n",
    "    \n",
    "    \n",
    "    cur_position_se = Vector(x_s - x_e, y_s - y_e)\n",
    "    mag_se = cur_position_se.mag\n",
    "    \n",
    "    force_se = G * m_s * m_e / mag_se**2\n",
    "    direction_se = -cur_position_se.hat()\n",
    "    \n",
    "    se_force = direction_se * force_se\n",
    "    \n",
    "    \n",
    "    \n",
    "    cur_position_sj = Vector(x_s - x_j, y_s - y_j)\n",
    "    mag_sj = cur_position_sj.mag\n",
    "    \n",
    "    force_sj = G * m_s * m_j / mag_sj**2\n",
    "    direction_sj = -cur_position_sj.hat()\n",
    "    \n",
    "    sj_force = direction_sj * force_sj\n",
    "    \n",
    "    \n",
    "    \n",
    "    cur_position_je = Vector(x_j - x_e, y_j - y_e)\n",
    "    mag_je = cur_position_je.mag\n",
    "    \n",
    "    force_je = G * m_j * m_e / mag_je**2\n",
    "    direction_je = -cur_position_je.hat()\n",
    "    \n",
    "    je_force = direction_je * force_je\n",
    "    \n",
    "    \n",
    "    return je_force, sj_force, se_force"
   ]
  },
  {
   "cell_type": "code",
   "execution_count": 80,
   "metadata": {},
   "outputs": [
    {
     "data": {
      "text/plain": [
       "(<Quantity([-1.89995577e+18 -0.00000000e+00], 'dimensionless')>,\n",
       " <Quantity([ 4.16253597e+23 -0.00000000e+00], 'dimensionless')>,\n",
       " <Quantity([ 3.6686486e+22 -0.0000000e+00], 'dimensionless')>)"
      ]
     },
     "execution_count": 80,
     "metadata": {},
     "output_type": "execute_result"
    }
   ],
   "source": [
    "force = universal_gravitation(init,system)"
   ]
  },
  {
   "cell_type": "code",
   "execution_count": 81,
   "metadata": {},
   "outputs": [],
   "source": [
    "def update_func(state, t, system):\n",
    "    \"\"\"Compute derivatives of the state.\n",
    "    \n",
    "    state: position, velocity\n",
    "    t: time\n",
    "    system: System object containing `g`\n",
    "    \n",
    "    returns: derivatives of y and v\n",
    "    \"\"\"\n",
    "    x_e, y_e, vx_e, vy_e, x_s, y_s, vx_s, vy_s, x_j, y_j, vx_j, vy_j, m_j = state\n",
    "    unpack(system)    \n",
    "\n",
    "    je_force, sj_force, se_force = universal_gravitation(state, system)\n",
    "    dx_edt = vx_e\n",
    "    dy_edt = vy_e\n",
    "    dvx_edt = (-je_force.x / m_e) + (-se_force.x / m_e)\n",
    "    dvy_edt = (-je_force.y / m_e) + (-se_force.y / m_e)\n",
    "    \n",
    "    dx_jdt = vx_j\n",
    "    dy_jdt = vy_j\n",
    "    dvx_jdt = (je_force.x / m_j) + (-sj_force.x / m_j)\n",
    "    dvy_jdt = (je_force.y / m_j) + (-sj_force.y / m_j)\n",
    "    \n",
    "    dx_sdt = vx_s\n",
    "    dy_sdt = vy_s\n",
    "    dvx_sdt = (se_force.x / m_s) + (sj_force.x / m_s)\n",
    "    dvy_sdt = (se_force.y / m_s) + (sj_force.y / m_s)\n",
    "    \n",
    "    x_e += dx_edt * dt\n",
    "    y_e += dy_edt * dt\n",
    "    vx_e += dvx_edt * dt\n",
    "    vy_e += dvy_edt * dt\n",
    "    \n",
    "    x_s += dx_sdt * dt\n",
    "    y_s += dy_sdt * dt\n",
    "    vx_s += dvx_sdt * dt\n",
    "    vy_s += dvy_sdt * dt\n",
    "    \n",
    "    x_j += dx_jdt * dt\n",
    "    y_j += dy_jdt * dt\n",
    "    vx_j += dvx_jdt * dt\n",
    "    vy_j += dvy_jdt * dt\n",
    "    m_j += 5.250882589210215e+21 * dt\n",
    "    \n",
    "    return State(x_e = x_e, y_e = y_e, vx_e = vx_e, vy_e = vy_e, x_s = x_s, y_s = y_s, vx_s = vx_s, vy_s = vy_s, x_j = x_j, y_j = y_j, vx_j = vx_j, vy_j = vy_j, m_j = m_j)"
   ]
  },
  {
   "cell_type": "code",
   "execution_count": 82,
   "metadata": {},
   "outputs": [],
   "source": [
    "def update_func2(state, t, system):\n",
    "    \"\"\"Compute derivatives of the state.\n",
    "    \n",
    "    state: position, velocity\n",
    "    t: time\n",
    "    system: System object containing `g`\n",
    "    \n",
    "    returns: derivatives of y and v\n",
    "    \"\"\"\n",
    "    x_e, y_e, vx_e, vy_e, x_s, y_s, vx_s, vy_s, x_j, y_j, vx_j, vy_j, m_j = state\n",
    "    unpack(system)    \n",
    "\n",
    "    je_force, sj_force, se_force = universal_gravitation(state, system)\n",
    "    dx_edt = vx_e\n",
    "    dy_edt = vy_e\n",
    "    dvx_edt = (-je_force.x / m_e) + (-se_force.x / m_e)\n",
    "    dvy_edt = (-je_force.y / m_e) + (-se_force.y / m_e)\n",
    "    \n",
    "    dx_jdt = vx_j\n",
    "    dy_jdt = vy_j\n",
    "    dvx_jdt = (je_force.x / m_j) + (-sj_force.x / m_j)\n",
    "    dvy_jdt = (je_force.y / m_j) + (-sj_force.y / m_j)\n",
    "    \n",
    "    dx_sdt = vx_s\n",
    "    dy_sdt = vy_s\n",
    "    dvx_sdt = (se_force.x / m_s) + (sj_force.x / m_s)\n",
    "    dvy_sdt = (se_force.y / m_s) + (sj_force.y / m_s)\n",
    "    \n",
    "    x_e += dx_edt * dt\n",
    "    y_e += dy_edt * dt\n",
    "    vx_e += dvx_edt * dt\n",
    "    vy_e += dvy_edt * dt\n",
    "    \n",
    "    x_s += dx_sdt * dt\n",
    "    y_s += dy_sdt * dt\n",
    "    vx_s += dvx_sdt * dt\n",
    "    vy_s += dvy_sdt * dt\n",
    "    \n",
    "    x_j += dx_jdt * dt\n",
    "    y_j += dy_jdt * dt\n",
    "    vx_j += dvx_jdt * dt\n",
    "    vy_j += dvy_jdt * dt\n",
    "    m_j += 0\n",
    "    \n",
    "    return State(x_e = x_e, y_e = y_e, vx_e = vx_e, vy_e = vy_e, x_s = x_s, y_s = y_s, vx_s = vx_s, vy_s = vy_s, x_j = x_j, y_j = y_j, vx_j = vx_j, vy_j = vy_j, m_j = m_j)"
   ]
  },
  {
   "cell_type": "code",
   "execution_count": 95,
   "metadata": {},
   "outputs": [],
   "source": [
    "def update_func3(state, t, system):\n",
    "    \"\"\"Compute derivatives of the state.\n",
    "    \n",
    "    state: position, velocity\n",
    "    t: time\n",
    "    system: System object containing `g`\n",
    "    \n",
    "    returns: derivatives of y and v\n",
    "    \"\"\"\n",
    "    x_e, y_e, vx_e, vy_e, x_s, y_s, vx_s, vy_s, x_j, y_j, vx_j, vy_j, m_j = state\n",
    "    unpack(system)    \n",
    "\n",
    "    je_force, sj_force, se_force = universal_gravitation(state, system)\n",
    "    dx_edt = vx_e\n",
    "    dy_edt = vy_e\n",
    "    dvx_edt = (-je_force.x / m_e) + (-se_force.x / m_e)\n",
    "    dvy_edt = (-je_force.y / m_e) + (-se_force.y / m_e)\n",
    "    \n",
    "    dx_jdt = vx_j\n",
    "    dy_jdt = vy_j\n",
    "    dvx_jdt = (je_force.x / m_j) + (-sj_force.x / m_j)\n",
    "    dvy_jdt = (je_force.y / m_j) + (-sj_force.y / m_j)\n",
    "    \n",
    "    dx_sdt = vx_s\n",
    "    dy_sdt = vy_s\n",
    "    dvx_sdt = (se_force.x / m_s) + (sj_force.x / m_s)\n",
    "    dvy_sdt = (se_force.y / m_s) + (sj_force.y / m_s)\n",
    "    \n",
    "    x_e += dx_edt * dt\n",
    "    y_e += dy_edt * dt\n",
    "    vx_e += dvx_edt * dt\n",
    "    vy_e += dvy_edt * dt\n",
    "    \n",
    "    x_s += 0#dx_sdt * dt\n",
    "    y_s += 0#dy_sdt * dt\n",
    "    vx_s += 0#dvx_sdt * dt\n",
    "    vy_s += 0#dvy_sdt * dt\n",
    "    \n",
    "    x_j += dx_jdt * dt\n",
    "    y_j += dy_jdt * dt\n",
    "    vx_j += dvx_jdt * dt\n",
    "    vy_j += dvy_jdt * dt\n",
    "    m_j += 5.250882589210215e+21 * dt\n",
    "    \n",
    "    return State(x_e = x_e, y_e = y_e, vx_e = vx_e, vy_e = vy_e, x_s = x_s, y_s = y_s, vx_s = vx_s, vy_s = vy_s, x_j = x_j, y_j = y_j, vx_j = vx_j, vy_j = vy_j, m_j = m_j)"
   ]
  },
  {
   "cell_type": "code",
   "execution_count": 99,
   "metadata": {},
   "outputs": [],
   "source": [
    "def update_func4(state, t, system):\n",
    "    \"\"\"Compute derivatives of the state.\n",
    "    \n",
    "    state: position, velocity\n",
    "    t: time\n",
    "    system: System object containing `g`\n",
    "    \n",
    "    returns: derivatives of y and v\n",
    "    \"\"\"\n",
    "    x_e, y_e, vx_e, vy_e, x_s, y_s, vx_s, vy_s, x_j, y_j, vx_j, vy_j, m_j = state\n",
    "    unpack(system)    \n",
    "\n",
    "    je_force, sj_force, se_force = universal_gravitation(state, system)\n",
    "    dx_edt = vx_e\n",
    "    dy_edt = vy_e\n",
    "    dvx_edt = (-je_force.x / m_e) + (-se_force.x / m_e)\n",
    "    dvy_edt = (-je_force.y / m_e) + (-se_force.y / m_e)\n",
    "    \n",
    "    dx_jdt = vx_j\n",
    "    dy_jdt = vy_j\n",
    "    dvx_jdt = (je_force.x / m_j) + (-sj_force.x / m_j)\n",
    "    dvy_jdt = (je_force.y / m_j) + (-sj_force.y / m_j)\n",
    "    \n",
    "    dx_sdt = vx_s\n",
    "    dy_sdt = vy_s\n",
    "    dvx_sdt = (se_force.x / m_s) + (sj_force.x / m_s)\n",
    "    dvy_sdt = (se_force.y / m_s) + (sj_force.y / m_s)\n",
    "    \n",
    "    x_e += dx_edt * dt\n",
    "    y_e += dy_edt * dt\n",
    "    vx_e += dvx_edt * dt\n",
    "    vy_e += dvy_edt * dt\n",
    "    \n",
    "    x_s += dx_sdt * dt\n",
    "    y_s += dy_sdt * dt\n",
    "    vx_s += dvx_sdt * dt\n",
    "    vy_s += dvy_sdt * dt\n",
    "    \n",
    "    x_j += dx_jdt * dt\n",
    "    y_j += dy_jdt * dt\n",
    "    vx_j += dvx_jdt * dt\n",
    "    vy_j += dvy_jdt * dt\n",
    "    m_j += 5.250882589210215e+21 * dt\n",
    "    \n",
    "    xs = x_s\n",
    "    ys = y_s\n",
    "    \n",
    "    x_e -= xs\n",
    "    y_e -= ys\n",
    "    x_s -= xs\n",
    "    y_s -= ys\n",
    "    x_j -= xs\n",
    "    y_j -= ys\n",
    "    \n",
    "    return State(x_e = x_e, y_e = y_e, vx_e = vx_e, vy_e = vy_e, x_s = x_s, y_s = y_s, vx_s = vx_s, vy_s = vy_s, x_j = x_j, y_j = y_j, vx_j = vx_j, vy_j = vy_j, m_j = m_j)"
   ]
  },
  {
   "cell_type": "code",
   "execution_count": 83,
   "metadata": {},
   "outputs": [],
   "source": [
    "def run_simulation(system, update_func):\n",
    "    \"\"\"Runs a simulation of the system.\n",
    "        \n",
    "    system: System object\n",
    "    update_func: function that updates state\n",
    "    \n",
    "    returns: TimeFrame\n",
    "    \"\"\"\n",
    "    unpack(system)\n",
    "    \n",
    "    frame = TimeFrame(columns=init.index)\n",
    "    frame.row[0] = init\n",
    "    ts = linrange(t_0, t_end, dt)\n",
    "    \n",
    "    for t in ts:\n",
    "        frame.row[t+dt] = update_func(frame.row[t], t, system)\n",
    "    \n",
    "    return frame"
   ]
  },
  {
   "cell_type": "code",
   "execution_count": 84,
   "metadata": {},
   "outputs": [
    {
     "name": "stdout",
     "output_type": "stream",
     "text": [
      "Wall time: 7min 58s\n"
     ]
    }
   ],
   "source": [
    "%time results = run_simulation(system, update_func)"
   ]
  },
  {
   "cell_type": "code",
   "execution_count": 85,
   "metadata": {},
   "outputs": [
    {
     "name": "stdout",
     "output_type": "stream",
     "text": [
      "Wall time: 8min 4s\n"
     ]
    }
   ],
   "source": [
    "%time results2 = run_simulation(system, update_func2);"
   ]
  },
  {
   "cell_type": "code",
   "execution_count": 103,
   "metadata": {},
   "outputs": [],
   "source": [
    "results2;"
   ]
  },
  {
   "cell_type": "code",
   "execution_count": 102,
   "metadata": {
    "scrolled": false
   },
   "outputs": [],
   "source": [
    "results;"
   ]
  },
  {
   "cell_type": "code",
   "execution_count": 88,
   "metadata": {},
   "outputs": [],
   "source": [
    "def plot_trajectory(results):\n",
    "    plot(results.x_e, results.y_e, label='earth')\n",
    "    plot(results.x_j, results.y_j, label='jupiter')\n",
    "    plot(results.x_s, results.y_s, label='sun')\n",
    "\n",
    "    \n",
    "    decorate(xlabel='x position (m)',\n",
    "             ylabel='y position (m)')"
   ]
  },
  {
   "cell_type": "code",
   "execution_count": 89,
   "metadata": {},
   "outputs": [
    {
     "data": {
      "image/png": "[encoded data removed]",
      "text/plain": [
       "<Figure size 432x288 with 1 Axes>"
      ]
     },
     "metadata": {
      "needs_background": "light"
     },
     "output_type": "display_data"
    }
   ],
   "source": [
    "plot_trajectory(results)"
   ]
  },
  {
   "cell_type": "code",
   "execution_count": 90,
   "metadata": {},
   "outputs": [
    {
     "data": {
      "image/png": "[encoded data removed]",
      "text/plain": [
       "<Figure size 432x288 with 1 Axes>"
      ]
     },
     "metadata": {
      "needs_background": "light"
     },
     "output_type": "display_data"
    }
   ],
   "source": [
    "plot_trajectory(results2)"
   ]
  },
  {
   "cell_type": "code",
   "execution_count": 91,
   "metadata": {},
   "outputs": [
    {
     "data": {
      "text/html": [
       "<div>\n",
       "<style scoped>\n",
       "    .dataframe tbody tr th:only-of-type {\n",
       "        vertical-align: middle;\n",
       "    }\n",
       "\n",
       "    .dataframe tbody tr th {\n",
       "        vertical-align: top;\n",
       "    }\n",
       "\n",
       "    .dataframe thead th {\n",
       "        text-align: right;\n",
       "    }\n",
       "</style>\n",
       "<table border=\"1\" class=\"dataframe\">\n",
       "  <thead>\n",
       "    <tr style=\"text-align: right;\">\n",
       "      <th></th>\n",
       "      <th>values</th>\n",
       "    </tr>\n",
       "  </thead>\n",
       "  <tbody>\n",
       "    <tr>\n",
       "      <th>init</th>\n",
       "      <td>x_e     1.470000e+11\n",
       "y_e     0.000000e+00\n",
       "vx_e...</td>\n",
       "    </tr>\n",
       "    <tr>\n",
       "      <th>G</th>\n",
       "      <td>6.674e-11</td>\n",
       "    </tr>\n",
       "    <tr>\n",
       "      <th>m_s</th>\n",
       "      <td>1.989e+30</td>\n",
       "    </tr>\n",
       "    <tr>\n",
       "      <th>m_e</th>\n",
       "      <td>5.972e+24</td>\n",
       "    </tr>\n",
       "    <tr>\n",
       "      <th>t_0</th>\n",
       "      <td>0</td>\n",
       "    </tr>\n",
       "    <tr>\n",
       "      <th>t_end</th>\n",
       "      <td>378400000</td>\n",
       "    </tr>\n",
       "    <tr>\n",
       "      <th>m_j_init</th>\n",
       "      <td>1.898e+27</td>\n",
       "    </tr>\n",
       "    <tr>\n",
       "      <th>dt</th>\n",
       "      <td>10000</td>\n",
       "    </tr>\n",
       "  </tbody>\n",
       "</table>\n",
       "</div>"
      ],
      "text/plain": [
       "init        x_e     1.470000e+11\n",
       "y_e     0.000000e+00\n",
       "vx_e...\n",
       "G                                                   6.674e-11\n",
       "m_s                                                 1.989e+30\n",
       "m_e                                                 5.972e+24\n",
       "t_0                                                         0\n",
       "t_end                                               378400000\n",
       "m_j_init                                            1.898e+27\n",
       "dt                                                      10000\n",
       "dtype: object"
      ]
     },
     "execution_count": 91,
     "metadata": {},
     "output_type": "execute_result"
    }
   ],
   "source": [
    "system = System(init=init,\n",
    "                G=6.674e-11,\n",
    "                m_s=1.989e30, \n",
    "                m_e=5.972e24,\n",
    "                t_0=0,\n",
    "                t_end= 378400000,\n",
    "                m_j_init = 1.898e27,\n",
    "                dt = 10000)"
   ]
  },
  {
   "cell_type": "code",
   "execution_count": 92,
   "metadata": {},
   "outputs": [
    {
     "name": "stdout",
     "output_type": "stream",
     "text": [
      "Wall time: 8min 12s\n"
     ]
    }
   ],
   "source": [
    "%time results = run_simulation(system, update_func)"
   ]
  },
  {
   "cell_type": "code",
   "execution_count": 94,
   "metadata": {},
   "outputs": [
    {
     "data": {
      "image/png": "[encoded data removed]",
      "text/plain": [
       "<Figure size 432x288 with 1 Axes>"
      ]
     },
     "metadata": {
      "needs_background": "light"
     },
     "output_type": "display_data"
    }
   ],
   "source": [
    "plot_trajectory(results)"
   ]
  },
  {
   "cell_type": "code",
   "execution_count": 96,
   "metadata": {},
   "outputs": [
    {
     "name": "stdout",
     "output_type": "stream",
     "text": [
      "Wall time: 17min 42s\n"
     ]
    }
   ],
   "source": [
    "%time results = run_simulation(system, update_func3)"
   ]
  },
  {
   "cell_type": "code",
   "execution_count": 98,
   "metadata": {},
   "outputs": [
    {
     "data": {
      "image/png": "[encoded data removed]",
      "text/plain": [
       "<Figure size 432x288 with 1 Axes>"
      ]
     },
     "metadata": {
      "needs_background": "light"
     },
     "output_type": "display_data"
    }
   ],
   "source": [
    "plot_trajectory(results)"
   ]
  },
  {
   "cell_type": "code",
   "execution_count": 100,
   "metadata": {},
   "outputs": [
    {
     "name": "stdout",
     "output_type": "stream",
     "text": [
      "Wall time: 9min 52s\n"
     ]
    }
   ],
   "source": [
    "%time results = run_simulation(system, update_func4)"
   ]
  },
  {
   "cell_type": "code",
   "execution_count": 101,
   "metadata": {},
   "outputs": [
    {
     "data": {
      "image/png": "[encoded data removed]",
      "text/plain": [
       "<Figure size 432x288 with 1 Axes>"
      ]
     },
     "metadata": {
      "needs_background": "light"
     },
     "output_type": "display_data"
    }
   ],
   "source": [
    "plot_trajectory(results)"
   ]
  },
  {
   "cell_type": "code",
   "execution_count": 105,
   "metadata": {},
   "outputs": [
    {
     "name": "stdout",
     "output_type": "stream",
     "text": [
      "Wall time: 7min 34s\n"
     ]
    }
   ],
   "source": [
    "init = State(x_e = r_e, y_e = 0 , vx_e = 0 , vy_e = 29784,\n",
    "             x_s = 0 , y_s = 0 , vx_s = 0 , vy_s = 0 ,\n",
    "             x_j = -r_j, y_j = 0 , vx_j = 0 , vy_j = -13069 , m_j = init_jupiter_mass)\n",
    "\n",
    "system = System(init=init,\n",
    "                G=6.674e-11,\n",
    "                m_s=1.989e30, \n",
    "                m_e=5.972e24,\n",
    "                t_0=0,\n",
    "                t_end= 378400000,\n",
    "                m_j_init = 1.898e27,\n",
    "                dt = 10000)\n",
    "\n",
    "%time results = run_simulation(system, update_func4)"
   ]
  },
  {
   "cell_type": "code",
   "execution_count": 106,
   "metadata": {},
   "outputs": [
    {
     "data": {
      "image/png": "[encoded data removed]",
      "text/plain": [
       "<Figure size 432x288 with 1 Axes>"
      ]
     },
     "metadata": {
      "needs_background": "light"
     },
     "output_type": "display_data"
    }
   ],
   "source": [
    "plot_trajectory(results)"
   ]
  },
  {
   "cell_type": "code",
   "execution_count": null,
   "metadata": {},
   "outputs": [],
   "source": []
  }
 ],
 "metadata": {
  "kernelspec": {
   "display_name": "Python 3",
   "language": "python",
   "name": "python3"
  },
  "language_info": {
   "codemirror_mode": {
    "name": "ipython",
    "version": 3
   },
   "file_extension": ".py",
   "mimetype": "text/x-python",
   "name": "python",
   "nbconvert_exporter": "python",
   "pygments_lexer": "ipython3",
   "version": "3.6.6"
  }
 },
 "nbformat": 4,
 "nbformat_minor": 2
}
