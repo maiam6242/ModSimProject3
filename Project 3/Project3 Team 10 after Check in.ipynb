{
 "cells": [
  {
   "cell_type": "markdown",
   "metadata": {},
   "source": [
    "# ModSim Project 3\n",
    "\n",
    "Maia Materman and SeungU Lyu"
   ]
  },
  {
   "cell_type": "code",
   "execution_count": null,
   "metadata": {},
   "outputs": [],
   "source": [
    "# Configure Jupyter so figures appear in the notebook\n",
    "%matplotlib inline\n",
    "\n",
    "# Configure Jupyter to display the assigned value after an assignment\n",
    "%config InteractiveShell.ast_node_interactivity='last_expr_or_assign'\n",
    "\n",
    "# import functions from the modsim.py module\n",
    "from modsim import *"
   ]
  },
  {
   "cell_type": "markdown",
   "metadata": {},
   "source": [
    "## Question\n",
    "\n",
    "Jupiter is the second heaviest planetary body in the solar system, right after the sun. Even though its mass is relatively small compared to the sun's mass (it is about 0.001% of the sun's mass), the impact it has on other planets in the solar system is huge. Even now, it attracts most of the asteroids in the solar system so that they cannot come toward the Earth. There was an interesting hypothesis that if Jupiter's mass was about 100 times higher than it was when it was created, it might have started nuclear fusion by itself and evolved into a star instead. If this had happened, the solar system could have become a binary star system which is actually common among many other stars in the universe. \n",
    "\n",
    "For this question, we thought it might be really interesting to see what would happen to the trajectories of the sun, Earth and Jupiter if for some reason, Jupiter started the nuclear fusion process and became a star with about the same mass as the sun. We thought the most fascinating trajectory might be Earth's and chose to focus on it in our analysis (but more on that later!) "
   ]
  },
  {
   "cell_type": "markdown",
   "metadata": {},
   "source": [
    "## Model\n",
    "\n",
    "In this model we decided to act as though the solar system had only three planetary masses, that of Earth, the sun and Jupiter. This lead to us examining the interactions of six forces which can be seen in our schematic below.\n",
    "\n",
    "<img src=\"Schematic.png\" width=300 title=\"schematic\">\n",
    "\n",
    "This model of the system allowed us to extrapolate a few equations which would make up the majority of our system. All of the equations were based around Newton's Law of Universal Gravitation:\n",
    "\n",
    "\\begin{equation}\n",
    "    F_g = G \\frac{m_1 m_2}{r^2}\n",
    "\\end{equation}\n",
    "\n",
    "This law was the basis for all of our differential equations for the velocity of bodies in our system. Those equations took this form:\n",
    "\n",
    "\\begin{equation}\n",
    "    \\frac{dV}{dt} = \\frac{F_{1\\;2}}{m_1}+\\frac{F_{1\\;3}}{m_1}\n",
    "\\end{equation}\n",
    "\n",
    "The numbers in this equation which are subscripts represent planetary bodies. For example, 1 could represent the Earth; 2, the sun; and 3, Jupiter.\n",
    "\n",
    "Before moving forward, it is essential to acknowledge some of the assumptions which these equations and other portions of our model introduce. As evidenced in our schematic, we chose to envision the solar system as if it only had three bodies. While doing this helped reduce some of the complexity of our model, it also makes it less accurate. It is also important to note that we had a bit of freedom as we were creating a model of a system which does not (yet?) exist in the physical space of our solar system. With that in mind, we were able to play with some parameters which have little basis in reality. One of those was the rate at which Jupiter grew in mass. We set it to grow linearly in most of our models, although we did also experiment with having it grow to the mass of the sun as soon as the simulation started as well as having it be as massive as the sun in the initial state. These were all modeling decisions which ended up influencing the outcome of our model (although we can't be sure how much they would impact the accuracy). \n"
   ]
  },
  {
   "cell_type": "code",
   "execution_count": null,
   "metadata": {},
   "outputs": [],
   "source": [
    "r_e = 147e9\n",
    "r_j = 778e9\n",
    "init_jupiter_mass = 1.898e27\n",
    "\n",
    "init = State(x_e = r_e, y_e = 0 , vx_e = 0 , vy_e = 29784,\n",
    "             x_s = 0 , y_s = 0 , vx_s = 0 , vy_s = 0 ,\n",
    "             x_j = r_j, y_j = 0 , vx_j = 0 , vy_j = 13069 , m_j = init_jupiter_mass)"
   ]
  },
  {
   "cell_type": "code",
   "execution_count": null,
   "metadata": {},
   "outputs": [],
   "source": [
    "system = System(init=init,\n",
    "                G=6.674e-11,\n",
    "                m_s=1.989e30, \n",
    "                m_e=5.972e24,\n",
    "                t_0=0,\n",
    "                t_end= 37840000,\n",
    "                m_j_init = 1.898e27,\n",
    "                dt = 1000)"
   ]
  },
  {
   "cell_type": "code",
   "execution_count": null,
   "metadata": {},
   "outputs": [],
   "source": [
    "(1.989e+30 - 1.898e27)/system.t_end"
   ]
  },
  {
   "cell_type": "code",
   "execution_count": null,
   "metadata": {},
   "outputs": [],
   "source": [
    "# Here's a function that computes the force of gravity\n",
    "\n",
    "def universal_gravitation(state, system):\n",
    "    \"\"\"Computes gravitational force.\n",
    "    \n",
    "    state: State object with distance r\n",
    "    system: System object with m1, m2, and G\n",
    "    \"\"\"\n",
    "    x_e, y_e, vx_e, vy_e, x_s, y_s, vx_s, vy_s, x_j, y_j, vx_j, vy_j, m_j = state\n",
    "    unpack(system)\n",
    "    \n",
    "    \n",
    "    cur_position_se = Vector(x_s - x_e, y_s - y_e)\n",
    "    mag_se = cur_position_se.mag\n",
    "    \n",
    "    force_se = G * m_s * m_e / mag_se**2\n",
    "    direction_se = -cur_position_se.hat()\n",
    "    \n",
    "    se_force = direction_se * force_se\n",
    "    \n",
    "    \n",
    "    \n",
    "    cur_position_sj = Vector(x_s - x_j, y_s - y_j)\n",
    "    mag_sj = cur_position_sj.mag\n",
    "    \n",
    "    force_sj = G * m_s * m_j / mag_sj**2\n",
    "    direction_sj = -cur_position_sj.hat()\n",
    "    \n",
    "    sj_force = direction_sj * force_sj\n",
    "    \n",
    "    \n",
    "    \n",
    "    cur_position_je = Vector(x_j - x_e, y_j - y_e)\n",
    "    mag_je = cur_position_je.mag\n",
    "    \n",
    "    force_je = G * m_j * m_e / mag_je**2\n",
    "    direction_je = -cur_position_je.hat()\n",
    "    \n",
    "    je_force = direction_je * force_je\n",
    "    \n",
    "    \n",
    "    return je_force, sj_force, se_force"
   ]
  },
  {
   "cell_type": "code",
   "execution_count": null,
   "metadata": {},
   "outputs": [],
   "source": [
    "force = universal_gravitation(init,system)"
   ]
  },
  {
   "cell_type": "markdown",
   "metadata": {},
   "source": [
    "Another thing we played with and iterated on was the way in which the sun was positioned in our system. In some of our first models, the sun is manipulated just by the forces at play in the system. The latter ones, however, reset the position of the sun each time the update function is called."
   ]
  },
  {
   "cell_type": "code",
   "execution_count": null,
   "metadata": {},
   "outputs": [],
   "source": [
    "def update_func(state, t, system):\n",
    "    \"\"\"Compute derivatives of the state.\n",
    "    \n",
    "    state: position, velocity\n",
    "    t: time\n",
    "    system: System object containing `g`\n",
    "    \n",
    "    returns: derivatives of y and v\n",
    "    \"\"\"\n",
    "    x_e, y_e, vx_e, vy_e, x_s, y_s, vx_s, vy_s, x_j, y_j, vx_j, vy_j, m_j = state\n",
    "    unpack(system)    \n",
    "\n",
    "    je_force, sj_force, se_force = universal_gravitation(state, system)\n",
    "    dx_edt = vx_e\n",
    "    dy_edt = vy_e\n",
    "    dvx_edt = (-je_force.x / m_e) + (-se_force.x / m_e)\n",
    "    dvy_edt = (-je_force.y / m_e) + (-se_force.y / m_e)\n",
    "    \n",
    "    dx_jdt = vx_j\n",
    "    dy_jdt = vy_j\n",
    "    dvx_jdt = (je_force.x / m_j) + (-sj_force.x / m_j)\n",
    "    dvy_jdt = (je_force.y / m_j) + (-sj_force.y / m_j)\n",
    "    \n",
    "    dx_sdt = vx_s\n",
    "    dy_sdt = vy_s\n",
    "    dvx_sdt = (se_force.x / m_s) + (sj_force.x / m_s)\n",
    "    dvy_sdt = (se_force.y / m_s) + (sj_force.y / m_s)\n",
    "    \n",
    "    x_e += dx_edt * dt\n",
    "    y_e += dy_edt * dt\n",
    "    vx_e += dvx_edt * dt\n",
    "    vy_e += dvy_edt * dt\n",
    "    \n",
    "    x_s += dx_sdt * dt\n",
    "    y_s += dy_sdt * dt\n",
    "    vx_s += dvx_sdt * dt\n",
    "    vy_s += dvy_sdt * dt\n",
    "    \n",
    "    x_j += dx_jdt * dt\n",
    "    y_j += dy_jdt * dt\n",
    "    vx_j += dvx_jdt * dt\n",
    "    vy_j += dvy_jdt * dt\n",
    "    if m_j < m_s:\n",
    "        m_j += 5.250882589210215e+21 * dt\n",
    "    \n",
    "    return State(x_e = x_e, y_e = y_e, vx_e = vx_e, vy_e = vy_e, x_s = x_s, y_s = y_s, vx_s = vx_s, vy_s = vy_s, x_j = x_j, y_j = y_j, vx_j = vx_j, vy_j = vy_j, m_j = m_j)"
   ]
  },
  {
   "cell_type": "markdown",
   "metadata": {},
   "source": [
    "This update function (update_func2) resets the sun's position each time which it is called."
   ]
  },
  {
   "cell_type": "code",
   "execution_count": null,
   "metadata": {},
   "outputs": [],
   "source": [
    "def update_func2(state, t, system):\n",
    "    \"\"\"Compute derivatives of the state.\n",
    "    \n",
    "    state: position, velocity\n",
    "    t: time\n",
    "    system: System object containing `g`\n",
    "    \n",
    "    returns: derivatives of y and v\n",
    "    \"\"\"\n",
    "    x_e, y_e, vx_e, vy_e, x_s, y_s, vx_s, vy_s, x_j, y_j, vx_j, vy_j, m_j = state\n",
    "    unpack(system)    \n",
    "\n",
    "    je_force, sj_force, se_force = universal_gravitation(state, system)\n",
    "    dx_edt = vx_e\n",
    "    dy_edt = vy_e\n",
    "    dvx_edt = (-je_force.x / m_e) + (-se_force.x / m_e)\n",
    "    dvy_edt = (-je_force.y / m_e) + (-se_force.y / m_e)\n",
    "    \n",
    "    dx_jdt = vx_j\n",
    "    dy_jdt = vy_j\n",
    "    dvx_jdt = (je_force.x / m_j) + (-sj_force.x / m_j)\n",
    "    dvy_jdt = (je_force.y / m_j) + (-sj_force.y / m_j)\n",
    "    \n",
    "    dx_sdt = vx_s\n",
    "    dy_sdt = vy_s\n",
    "    dvx_sdt = (se_force.x / m_s) + (sj_force.x / m_s)\n",
    "    dvy_sdt = (se_force.y / m_s) + (sj_force.y / m_s)\n",
    "    \n",
    "    x_e += dx_edt * dt\n",
    "    y_e += dy_edt * dt\n",
    "    vx_e += dvx_edt * dt\n",
    "    vy_e += dvy_edt * dt\n",
    "    \n",
    "    x_s += dx_sdt * dt\n",
    "    y_s += dy_sdt * dt\n",
    "    vx_s += dvx_sdt * dt\n",
    "    vy_s += dvy_sdt * dt\n",
    "    \n",
    "    x_j += dx_jdt * dt\n",
    "    y_j += dy_jdt * dt\n",
    "    vx_j += dvx_jdt * dt\n",
    "    vy_j += dvy_jdt * dt\n",
    "    if m_j < m_s:\n",
    "        m_j += 5.250882589210215e+21 * dt\n",
    "    \n",
    "    xs = x_s\n",
    "    ys = y_s\n",
    "    \n",
    "    x_e -= xs\n",
    "    y_e -= ys\n",
    "    x_s -= xs\n",
    "    y_s -= ys\n",
    "    x_j -= xs\n",
    "    y_j -= ys\n",
    "    \n",
    "    return State(x_e = x_e, y_e = y_e, vx_e = vx_e, vy_e = vy_e, x_s = x_s, y_s = y_s, vx_s = vx_s, vy_s = vy_s, x_j = x_j, y_j = y_j, vx_j = vx_j, vy_j = vy_j, m_j = m_j)"
   ]
  },
  {
   "cell_type": "code",
   "execution_count": null,
   "metadata": {},
   "outputs": [],
   "source": [
    "def run_simulation(system, update_func):\n",
    "    \"\"\"Runs a simulation of the system.\n",
    "        \n",
    "    system: System object\n",
    "    update_func: function that updates state\n",
    "    \n",
    "    returns: TimeFrame\n",
    "    \"\"\"\n",
    "    unpack(system)\n",
    "    \n",
    "    frame = TimeFrame(columns=init.index)\n",
    "    frame.row[0] = init\n",
    "    ts = linrange(t_0, t_end, dt)\n",
    "    \n",
    "    for t in ts:\n",
    "        frame.row[t+dt] = update_func(frame.row[t], t, system)\n",
    "    \n",
    "    return frame"
   ]
  },
  {
   "cell_type": "code",
   "execution_count": null,
   "metadata": {},
   "outputs": [],
   "source": [
    "def plot_trajectory(results):\n",
    "    #plot(results.x_e, results.y_e, label='earth')\n",
    "    plot(results.x_j, results.y_j, label='jupiter')\n",
    "    plot(results.x_s, results.y_s, label='sun')\n",
    "\n",
    "    \n",
    "    decorate(xlabel='x position (m)',\n",
    "             ylabel='y position (m)')"
   ]
  },
  {
   "cell_type": "code",
   "execution_count": null,
   "metadata": {},
   "outputs": [],
   "source": [
    "%time results1 = run_simulation(system, update_func)"
   ]
  },
  {
   "cell_type": "code",
   "execution_count": null,
   "metadata": {},
   "outputs": [],
   "source": [
    "plot_trajectory(results1)"
   ]
  },
  {
   "cell_type": "code",
   "execution_count": null,
   "metadata": {},
   "outputs": [],
   "source": [
    "system.init.m_j = system.m_s\n",
    "%time results1_i = run_simulation(system, update_func)\n",
    "plot_trajectory(results1_i)"
   ]
  },
  {
   "cell_type": "markdown",
   "metadata": {},
   "source": [
    "We did some experimenting with the orientation of our planets as well. Each system depicts a different orientation of the bodies, one with the sun, Earth and Jupiter in a straight line on a single side and one with Jupiter and the Earth on opposing sides of the sun. Each of those is shown below.\n",
    "\n",
    "#### This is the orientation of the bodies on the same side of the sun\n",
    "<img src=\"InLine.png\" width=300 title=\"PlanetaryBodiesinLine\">\n",
    "\n",
    "#### This is the orientation of the bodies on opposite sides of the sun\n",
    "<img src=\"Opposite.png\" width=300 title=\"PlanetaryBodiesonOppositeSides\">\n",
    "\n",
    "The model in the cell directly below this one shows the masses on a single side, while the system defined about five cells below it models the system with the Earth on one side of the sun and Jupiter on the other. "
   ]
  },
  {
   "cell_type": "code",
   "execution_count": null,
   "metadata": {},
   "outputs": [],
   "source": [
    "init = State(x_e = r_e, y_e = 0 , vx_e = 0 , vy_e = 29784,\n",
    "             x_s = 0 , y_s = 0 , vx_s = 0 , vy_s = 0 ,\n",
    "             x_j = r_j, y_j = 0 , vx_j = 0 , vy_j = 13069 , m_j = init_jupiter_mass)\n",
    "\n",
    "system = System(init=init,\n",
    "                G=6.674e-11,\n",
    "                m_s=1.989e30, \n",
    "                m_e=5.972e24,\n",
    "                t_0=0,\n",
    "                t_end= 378400000,\n",
    "                m_j_init = 1.898e27,\n",
    "                dt = 10000)"
   ]
  },
  {
   "cell_type": "code",
   "execution_count": null,
   "metadata": {},
   "outputs": [],
   "source": [
    "%time results2 = run_simulation(system, update_func)"
   ]
  },
  {
   "cell_type": "code",
   "execution_count": null,
   "metadata": {},
   "outputs": [],
   "source": [
    "plot_trajectory(results2)"
   ]
  },
  {
   "cell_type": "code",
   "execution_count": null,
   "metadata": {},
   "outputs": [],
   "source": [
    "%time results3 = run_simulation(system, update_func2)"
   ]
  },
  {
   "cell_type": "code",
   "execution_count": null,
   "metadata": {},
   "outputs": [],
   "source": [
    "plot_trajectory(results3)"
   ]
  },
  {
   "cell_type": "code",
   "execution_count": null,
   "metadata": {},
   "outputs": [],
   "source": [
    "system.init.m_j = system.m_s\n",
    "%time results3_i = run_simulation(system, update_func2)"
   ]
  },
  {
   "cell_type": "code",
   "execution_count": null,
   "metadata": {},
   "outputs": [],
   "source": [
    "plot_trajectory(results3_i)"
   ]
  },
  {
   "cell_type": "code",
   "execution_count": null,
   "metadata": {},
   "outputs": [],
   "source": [
    "init = State(x_e = r_e, y_e = 0 , vx_e = 0 , vy_e = 29784,\n",
    "             x_s = 0 , y_s = 0 , vx_s = 0 , vy_s = 0 ,\n",
    "             x_j = -r_j, y_j = 0 , vx_j = 0 , vy_j = -13069 , m_j = init_jupiter_mass)\n",
    "\n",
    "system = System(init=init,\n",
    "                G=6.674e-11,\n",
    "                m_s=1.989e30, \n",
    "                m_e=5.972e24,\n",
    "                t_0=0,\n",
    "                t_end= 378400000,\n",
    "                m_j_init = 1.898e27,\n",
    "                dt = 10000)"
   ]
  },
  {
   "cell_type": "code",
   "execution_count": null,
   "metadata": {},
   "outputs": [],
   "source": [
    "%time results4 = run_simulation(system, update_func)\n",
    "plot_trajectory(results4)"
   ]
  },
  {
   "cell_type": "code",
   "execution_count": null,
   "metadata": {},
   "outputs": [],
   "source": [
    "%time results5 = run_simulation(system, update_func2)\n",
    "plot_trajectory(results5)"
   ]
  },
  {
   "cell_type": "code",
   "execution_count": null,
   "metadata": {},
   "outputs": [],
   "source": [
    "system.init.m_j = system.m_s\n",
    "%time results5_i = run_simulation(system, update_func2)\n",
    "plot_trajectory(results5_i)"
   ]
  },
  {
   "cell_type": "code",
   "execution_count": null,
   "metadata": {},
   "outputs": [],
   "source": [
    "init = State(x_e = r_e, y_e = 0 , vx_e = 0 , vy_e = 29784,\n",
    "             x_s = 0 , y_s = 0 , vx_s = 0 , vy_s = 0 ,\n",
    "             x_j = 0, y_j = r_j , vx_j = -13069 , vy_j = 0 , m_j = init_jupiter_mass)\n",
    "\n",
    "system = System(init=init,\n",
    "                G=6.674e-11,\n",
    "                m_s=1.989e30, \n",
    "                m_e=5.972e24,\n",
    "                t_0=0,\n",
    "                t_end= 378400000,\n",
    "                m_j_init = 1.898e27,\n",
    "                dt = 10000)"
   ]
  },
  {
   "cell_type": "code",
   "execution_count": null,
   "metadata": {},
   "outputs": [],
   "source": [
    "%time results6 = run_simulation(system, update_func2)\n",
    "plot_trajectory(results6)"
   ]
  },
  {
   "cell_type": "markdown",
   "metadata": {},
   "source": [
    "## Results\n",
    "\n",
    "The answer to our question is depicted in each plot of the bodies. In most of the models, Earth has a trajectory which appears fairly random. In each model, however, Earth is flung out of the solar system. The time which that takes varies by the factors which we manipulated in our simulation. "
   ]
  },
  {
   "cell_type": "markdown",
   "metadata": {},
   "source": [
    "## Interpretation\n",
    "\n",
    "Our model is definitely far from perfect. Although we look at a few parameters and how they relate to the system, we essentially look at them in isolation. It would have been valuable to sweep over a range of values for each thing which we decided to change in our model. It also would have been interesting to see the time that the Earth was flung out of the solar system, since it does that in every simulation. We also could have done more to specify our question and build our model around it. Our question is fairly broad, so making a more exact question which could have been more easily measured probably would have been beneficial.\n",
    "\n",
    "This notebook contains very visible iterations on our original model. The first model shown is representative of the first simulation we did and every subsequent plot depicts an iteration on that original idea. We first played with the placement of the sun in the system, then how Jupiter increases in size and finally on the orientation of the planets. "
   ]
  },
  {
   "cell_type": "code",
   "execution_count": null,
   "metadata": {},
   "outputs": [],
   "source": []
  }
 ],
 "metadata": {
  "kernelspec": {
   "display_name": "Python 3",
   "language": "python",
   "name": "python3"
  },
  "language_info": {
   "codemirror_mode": {
    "name": "ipython",
    "version": 3
   },
   "file_extension": ".py",
   "mimetype": "text/x-python",
   "name": "python",
   "nbconvert_exporter": "python",
   "pygments_lexer": "ipython3",
   "version": "3.6.6"
  }
 },
 "nbformat": 4,
 "nbformat_minor": 2
}
